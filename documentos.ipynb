{
 "cells": [
  {
   "cell_type": "code",
   "execution_count": 1,
   "id": "bd928148",
   "metadata": {},
   "outputs": [
    {
     "name": "stdout",
     "output_type": "stream",
     "text": [
      "Requirement already satisfied: pandas in c:\\users\\fer\\anaconda3\\lib\\site-packages (1.5.3)\n",
      "Requirement already satisfied: python-dateutil>=2.8.1 in c:\\users\\fer\\anaconda3\\lib\\site-packages (from pandas) (2.8.2)\n",
      "Requirement already satisfied: pytz>=2020.1 in c:\\users\\fer\\anaconda3\\lib\\site-packages (from pandas) (2022.7)\n",
      "Requirement already satisfied: numpy>=1.21.0 in c:\\users\\fer\\anaconda3\\lib\\site-packages (from pandas) (1.24.3)\n",
      "Requirement already satisfied: six>=1.5 in c:\\users\\fer\\anaconda3\\lib\\site-packages (from python-dateutil>=2.8.1->pandas) (1.16.0)\n"
     ]
    }
   ],
   "source": [
    "!pip install pandas"
   ]
  },
  {
   "cell_type": "code",
   "execution_count": 2,
   "id": "7f269b9e",
   "metadata": {},
   "outputs": [],
   "source": [
    "import pandas as pd"
   ]
  },
  {
   "cell_type": "code",
   "execution_count": 3,
   "id": "85fa25ac",
   "metadata": {},
   "outputs": [
    {
     "data": {
      "text/html": [
       "<div>\n",
       "<style scoped>\n",
       "    .dataframe tbody tr th:only-of-type {\n",
       "        vertical-align: middle;\n",
       "    }\n",
       "\n",
       "    .dataframe tbody tr th {\n",
       "        vertical-align: top;\n",
       "    }\n",
       "\n",
       "    .dataframe thead th {\n",
       "        text-align: right;\n",
       "    }\n",
       "</style>\n",
       "<table border=\"1\" class=\"dataframe\">\n",
       "  <thead>\n",
       "    <tr style=\"text-align: right;\">\n",
       "      <th></th>\n",
       "      <th>id</th>\n",
       "      <th>Nombre</th>\n",
       "      <th>Edad</th>\n",
       "    </tr>\n",
       "  </thead>\n",
       "  <tbody>\n",
       "    <tr>\n",
       "      <th>0</th>\n",
       "      <td>1</td>\n",
       "      <td>Jose</td>\n",
       "      <td>20</td>\n",
       "    </tr>\n",
       "    <tr>\n",
       "      <th>1</th>\n",
       "      <td>2</td>\n",
       "      <td>America</td>\n",
       "      <td>21</td>\n",
       "    </tr>\n",
       "    <tr>\n",
       "      <th>2</th>\n",
       "      <td>3</td>\n",
       "      <td>Erick</td>\n",
       "      <td>20</td>\n",
       "    </tr>\n",
       "    <tr>\n",
       "      <th>3</th>\n",
       "      <td>4</td>\n",
       "      <td>Abril</td>\n",
       "      <td>20</td>\n",
       "    </tr>\n",
       "  </tbody>\n",
       "</table>\n",
       "</div>"
      ],
      "text/plain": [
       "   id   Nombre  Edad\n",
       "0   1     Jose    20\n",
       "1   2  America    21\n",
       "2   3    Erick    20\n",
       "3   4    Abril    20"
      ]
     },
     "execution_count": 3,
     "metadata": {},
     "output_type": "execute_result"
    }
   ],
   "source": [
    "pd.read_excel(\"personas.xlsx\")"
   ]
  },
  {
   "cell_type": "code",
   "execution_count": 4,
   "id": "90ce8653",
   "metadata": {},
   "outputs": [
    {
     "name": "stdout",
     "output_type": "stream",
     "text": [
      "Collecting python-docx\n",
      "  Obtaining dependency information for python-docx from https://files.pythonhosted.org/packages/5f/d8/6948f7ac00edf74bfa52b3c5e3073df20284bec1db466d13e668fe991707/python_docx-1.1.0-py3-none-any.whl.metadata\n",
      "  Downloading python_docx-1.1.0-py3-none-any.whl.metadata (2.0 kB)\n",
      "Requirement already satisfied: lxml>=3.1.0 in c:\\users\\fer\\anaconda3\\lib\\site-packages (from python-docx) (4.9.2)\n",
      "Requirement already satisfied: typing-extensions in c:\\users\\fer\\anaconda3\\lib\\site-packages (from python-docx) (4.7.1)\n",
      "Downloading python_docx-1.1.0-py3-none-any.whl (239 kB)\n",
      "   ---------------------------------------- 0.0/239.6 kB ? eta -:--:--\n",
      "   ----- ---------------------------------- 30.7/239.6 kB 1.3 MB/s eta 0:00:01\n",
      "   ---------- ---------------------------- 61.4/239.6 kB 656.4 kB/s eta 0:00:01\n",
      "   ------------------- ------------------ 122.9/239.6 kB 901.1 kB/s eta 0:00:01\n",
      "   ---------------------------------- ----- 204.8/239.6 kB 1.2 MB/s eta 0:00:01\n",
      "   ---------------------------------------- 239.6/239.6 kB 1.2 MB/s eta 0:00:00\n",
      "Installing collected packages: python-docx\n",
      "Successfully installed python-docx-1.1.0\n"
     ]
    }
   ],
   "source": [
    "!pip install python-docx"
   ]
  },
  {
   "cell_type": "code",
   "execution_count": 9,
   "id": "17ce2b73",
   "metadata": {},
   "outputs": [
    {
     "name": "stdout",
     "output_type": "stream",
     "text": [
      "Qué detallazo pa' mensajear con la muerte\n",
      "Una con siete chinos que de retrato trae\n",
      "Al señor de la montaña, de los drones y demás\n",
      "Cuernos del diablo junto a mi seguridad\n",
      "Viejo lobo en verguiza para el polvo traficar\n",
      "Dios siempre me cuida y mi gorrita de Elegua\n",
      "En la sangre traigo el 701\n",
      "Melena de león, pues vengo de uno\n",
      "Siempre amafiado, pues no somos culos\n",
      "Bajo perfil el chavalón y se le extraña\n",
      "Aunque se fue, nunca se le olvida\n",
      "Bélicos ya somos, bélicos morimos\n",
      "Y con el corridón del ángel azul\n",
      "A Dios le pido perdón por los pecados\n",
      "Pero así es esto\n",
      "Rolls-Royce azul\n",
      "Que pa' la finiquera seguido ya han de brincar\n",
      "Me enamoró el dinero, quiero, quiero y quiero más\n",
      "Cuernos del diablo y un comando mi seguridad\n",
      "Viejo lobo en verguiza para el polvo traficar\n",
      "Dios siempre me cuida y mi gorrita de Elegua\n",
      "En la sangre traigo el 701\n",
      "Melena de un león, pues vengo de uno\n",
      "Siempre amafiados, pues no somos culos\n",
      "Bajo perfil el chavalón y se le extraña\n",
      "A un Ruíz, el que nunca se olvida\n",
      "Bélicos somos, bélicos morimos\n",
      "Y con el corridón del ángel azul\n",
      "Le pido perdón a mi Dios por los pecados\n",
      "Pero así es esto\n"
     ]
    }
   ],
   "source": [
    "import docx\n",
    "\n",
    "doc = docx.Document('azul.docx')\n",
    "\n",
    "for paragraph in doc.paragraphs:\n",
    "    print(paragraph.text)"
   ]
  },
  {
   "cell_type": "code",
   "execution_count": 10,
   "id": "2ac5b2f9",
   "metadata": {},
   "outputs": [
    {
     "name": "stdout",
     "output_type": "stream",
     "text": [
      "Collecting PyPDF2\n",
      "  Downloading pypdf2-3.0.1-py3-none-any.whl (232 kB)\n",
      "     ---------------------------------------- 0.0/232.6 kB ? eta -:--:--\n",
      "     ----- --------------------------------- 30.7/232.6 kB 1.4 MB/s eta 0:00:01\n",
      "     ----------- ------------------------- 71.7/232.6 kB 787.7 kB/s eta 0:00:01\n",
      "     ----------------- ------------------ 112.6/232.6 kB 939.4 kB/s eta 0:00:01\n",
      "     ------------------------- ---------- 163.8/232.6 kB 893.0 kB/s eta 0:00:01\n",
      "     -------------------------------------- 232.6/232.6 kB 1.2 MB/s eta 0:00:00\n",
      "Installing collected packages: PyPDF2\n",
      "Successfully installed PyPDF2-3.0.1\n"
     ]
    }
   ],
   "source": [
    "!pip install PyPDF2"
   ]
  },
  {
   "cell_type": "code",
   "execution_count": 11,
   "id": "681b9b70",
   "metadata": {},
   "outputs": [
    {
     "name": "stdout",
     "output_type": "stream",
     "text": [
      "Sistema de información geografía.\n",
      "Centro de Estudios Tecnológicos del\n",
      "Mar.\n",
      "2018-2021.\n",
      "Creación de filtros 3D para Instagram. \n",
      "platzi\n",
      "2022-2023Sindicato de taxistas Andrés\n",
      "Quintana Roo.\n",
      "2020 - 2021.\n",
      "Uso de paquetería office.\n",
      "Capturista de datos.EXPERIENCIA LABORAL\n",
      "FORMACION ACADEMICA\n",
      "CERTIFICADOSJOSE FERNANDO\n",
      "MARTÍNEZ\n",
      "MENDIOLA\n",
      "DESARROLLO DE SOFTWARE \n",
      "TSU (TECNICO SUPERIOR\n",
      "UNIVERSITARIO)\n",
      " desarrollo de software multiplataforma\n",
      "Universidad Tecnológica de Cancún.\n",
      " 2021- 2023.\n",
      "Certificado y titulo (proceso de entrega).\n",
      "HABILIDADES \n",
      "autodidacta.\n",
      "Aprendo rápido.\n",
      "Responsable.Tienda.\n",
      "2023 \n",
      "..\n",
      "Control de mercado.\n",
      "ejecutivo de ventas.\n",
      "DATOS PERSONALES \n",
      "jisefermm147@gmail.com\n",
      "98-353-0781\n",
      "Técnico Automotriz.\n",
      "2022.\n",
      "Atención al cliente.\n",
      ".Ayudante general..\n"
     ]
    }
   ],
   "source": [
    "from PyPDF2 import PdfReader\n",
    "\n",
    "reader = PdfReader(\"CV-FERNANDO.pdf\")\n",
    "page = reader.pages [0]\n",
    "print(page.extract_text())"
   ]
  }
 ],
 "metadata": {
  "kernelspec": {
   "display_name": "Python 3 (ipykernel)",
   "language": "python",
   "name": "python3"
  },
  "language_info": {
   "codemirror_mode": {
    "name": "ipython",
    "version": 3
   },
   "file_extension": ".py",
   "mimetype": "text/x-python",
   "name": "python",
   "nbconvert_exporter": "python",
   "pygments_lexer": "ipython3",
   "version": "3.11.4"
  }
 },
 "nbformat": 4,
 "nbformat_minor": 5
}
