{
 "cells": [
  {
   "cell_type": "code",
   "execution_count": 2,
   "id": "f63ccf7a",
   "metadata": {},
   "outputs": [],
   "source": [
    "# 1. Listas\n",
    "frutas = [\"manzana\", \"banana\", \"cereza\"]\n",
    "numeros = [1, 2, 3, 4, 5]\n",
    "mixto = [\"texto\", 123, True, 3.14]"
   ]
  },
  {
   "cell_type": "code",
   "execution_count": 6,
   "id": "f3660199",
   "metadata": {},
   "outputs": [
    {
     "name": "stdout",
     "output_type": "stream",
     "text": [
      "manzana\n",
      "1\n",
      "2\n",
      "3\n",
      "4\n",
      "5\n"
     ]
    }
   ],
   "source": [
    "# acceso a datos\n",
    "\n",
    "print(frutas[0])\n",
    "\n",
    "for numero in numeros:\n",
    "    print(numero)"
   ]
  },
  {
   "cell_type": "code",
   "execution_count": 8,
   "id": "43d6abc1",
   "metadata": {},
   "outputs": [],
   "source": [
    "#metodos\n",
    "\n",
    "frutas.append(\"naranja\")    # Agrega un elemento al final\n",
    "frutas.remove(\"manzana\")    # Elimina un elemento específico\n",
    "frutas.pop()                # Elimina el último elemento"
   ]
  },
  {
   "cell_type": "code",
   "execution_count": 10,
   "id": "9feea55d",
   "metadata": {},
   "outputs": [],
   "source": [
    "# 2. tuplas \n",
    "\n",
    "colores = (\"rojo\", \"verde\", \"azul\")"
   ]
  },
  {
   "cell_type": "code",
   "execution_count": null,
   "id": "e5777769",
   "metadata": {},
   "outputs": [],
   "source": [
    "print(colores[1])    # Imprime \"verde\""
   ]
  },
  {
   "cell_type": "code",
   "execution_count": 13,
   "id": "118fcb54",
   "metadata": {},
   "outputs": [],
   "source": [
    "# 3, Conjuntos (sets)\n",
    "\n",
    "animales = {\"gato\", \"perro\", \"pez\"}"
   ]
  },
  {
   "cell_type": "code",
   "execution_count": 14,
   "id": "6f5496a7",
   "metadata": {},
   "outputs": [],
   "source": [
    "# Metodos\n",
    "\n",
    "animales.add(\"pájaro\")     # Agrega un elemento\n",
    "animales.remove(\"pez\")     # Elimina un elemento"
   ]
  },
  {
   "cell_type": "code",
   "execution_count": 15,
   "id": "a937ceaa",
   "metadata": {},
   "outputs": [
    {
     "name": "stdout",
     "output_type": "stream",
     "text": [
      "pájaro\n",
      "perro\n",
      "gato\n"
     ]
    }
   ],
   "source": [
    "for animal in animales:\n",
    "    print(animal)"
   ]
  },
  {
   "cell_type": "code",
   "execution_count": 5,
   "id": "8e13964e",
   "metadata": {},
   "outputs": [],
   "source": [
    "# 4. Diccionario\n",
    "\n",
    "persona = {\n",
    "    \"nombre\": \"Jose Fernando\",\n",
    "    \"ap_paterno\": \"Martinez\",\n",
    "    \"ap_materno\": \"Mendiola\",\n",
    "    \"edad\": 20,\n",
    "    \"ciudad\": \"Cancun\",\n",
    "    \"altura\": 1.78,\n",
    "    \"peso\": 85\n",
    "}"
   ]
  },
  {
   "cell_type": "code",
   "execution_count": 6,
   "id": "d3dd0ffd",
   "metadata": {},
   "outputs": [
    {
     "name": "stdout",
     "output_type": "stream",
     "text": [
      "Jose Fernando tas pollo: IMC 26.8\n"
     ]
    }
   ],
   "source": [
    "# funcion que me determine el IMC, y que me diga\n",
    "#nivel de peso\n",
    "\n",
    "def imc(peso,altura,nombre):\n",
    "    imc_p = peso/altura**2\n",
    "    \n",
    "    if imc_p < 18.5:\n",
    "        print(f\"{nombre} estas bajo de peso: IMC {round(imc_p,1)}\")\n",
    "    elif imc_p > 18.5 and imc_p <= 24.9:\n",
    "        print(f\"{nombre} peso normal: IMC {round(imc_p,1)}\")\n",
    "    elif imc_p > 25 and imc_p <= 29.9:\n",
    "        print(f\"{nombre} tas pollo: IMC {round(imc_p,1)}\")\n",
    "    else:\n",
    "        print(f\"{nombre} estas en obesidad: IMC {round(imc_p,1)}\")\n",
    "\n",
    "    \n",
    "    \n",
    "peso_p = persona[\"peso\"]\n",
    "altura_p = persona[\"altura\"]\n",
    "nombre_p = persona[\"nombre\"]\n",
    "\n",
    "imc(peso_p,altura_p,nombre_p)"
   ]
  },
  {
   "cell_type": "code",
   "execution_count": 19,
   "id": "74b8813e",
   "metadata": {},
   "outputs": [
    {
     "name": "stdout",
     "output_type": "stream",
     "text": [
      "nombre\n",
      "edad\n",
      "ciudad\n"
     ]
    }
   ],
   "source": [
    "for k in persona:\n",
    "    print(k)"
   ]
  },
  {
   "cell_type": "code",
   "execution_count": 22,
   "id": "ed2bda23",
   "metadata": {},
   "outputs": [
    {
     "name": "stdout",
     "output_type": "stream",
     "text": [
      "Juan\n",
      "25\n",
      "Madrid\n"
     ]
    }
   ],
   "source": [
    "for v in persona.values():\n",
    "    print(v)"
   ]
  },
  {
   "cell_type": "code",
   "execution_count": 23,
   "id": "d9f8ce10",
   "metadata": {},
   "outputs": [
    {
     "name": "stdout",
     "output_type": "stream",
     "text": [
      "La clave es: nombre y el valor es: Juan\n",
      "La clave es: edad y el valor es: 25\n",
      "La clave es: ciudad y el valor es: Madrid\n"
     ]
    }
   ],
   "source": [
    "for k,v in persona.items():\n",
    "    print(f\"La clave es: {k} y el valor es: {v}\")"
   ]
  }
 ],
 "metadata": {
  "kernelspec": {
   "display_name": "Python 3 (ipykernel)",
   "language": "python",
   "name": "python3"
  },
  "language_info": {
   "codemirror_mode": {
    "name": "ipython",
    "version": 3
   },
   "file_extension": ".py",
   "mimetype": "text/x-python",
   "name": "python",
   "nbconvert_exporter": "python",
   "pygments_lexer": "ipython3",
   "version": "3.11.4"
  }
 },
 "nbformat": 4,
 "nbformat_minor": 5
}
