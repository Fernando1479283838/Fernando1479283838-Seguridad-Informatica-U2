{
 "cells": [
  {
   "cell_type": "code",
   "execution_count": null,
   "id": "bb68081b",
   "metadata": {},
   "outputs": [],
   "source": [
    "#Identacion\n",
    "\n",
    "# ; NO existe en lineas de codigo\n",
    "# {} NO existe bloques de codigo\n",
    "# () NO existe en funciones\n",
    "\n",
    "# : \n",
    "\n",
    "# Indentado - Espacio | 4 espacios obligados"
   ]
  },
  {
   "cell_type": "code",
   "execution_count": 2,
   "id": "92aad47b",
   "metadata": {},
   "outputs": [
    {
     "name": "stdout",
     "output_type": "stream",
     "text": [
      "Ingrese la contraseña: miClaveSegura\n",
      "Tu contraseña es suficientemente larga.\n",
      "Además es la contraseña correcta.\n"
     ]
    }
   ],
   "source": [
    "password = input(\"Ingrese la contraseña: \")\n",
    "\n",
    "if (len(password) >= 8):\n",
    "    print('Tu contraseña es suficientemente larga.')\n",
    "\n",
    "    if password == 'miClaveSegura':\n",
    "        print(\"Además es la contraseña correcta.\")\n",
    "    else:\n",
    "        print(\"Pero es incorrecta.\")\n",
    "else:\n",
    "    print('Tu contraseña es muy corta e insegura.')\n",
    "\n",
    "    if password != 'miClaveSegura':\n",
    "        print(\"Además, es incorrecta (por supuesto).\")"
   ]
  },
  {
   "cell_type": "markdown",
   "id": "e4d95272",
   "metadata": {},
   "source": [
    "# FOR"
   ]
  },
  {
   "cell_type": "code",
   "execution_count": null,
   "id": "1ede5f87",
   "metadata": {},
   "outputs": [],
   "source": [
    "for(i=0;i<=10;i++){\n",
    "    codigo#iteración\n",
    "}"
   ]
  },
  {
   "cell_type": "code",
   "execution_count": 3,
   "id": "920646c3",
   "metadata": {},
   "outputs": [
    {
     "name": "stdout",
     "output_type": "stream",
     "text": [
      "Blanco\n",
      "Azul\n",
      "verde\n"
     ]
    }
   ],
   "source": [
    "colores = [\"Blanco\",\"Azul\",\"verde\"]\n",
    "\n",
    "for color in colores:\n",
    "    print(color)"
   ]
  },
  {
   "cell_type": "code",
   "execution_count": 11,
   "id": "69f0a294",
   "metadata": {},
   "outputs": [
    {
     "data": {
      "text/plain": [
       "'verde'"
      ]
     },
     "execution_count": 11,
     "metadata": {},
     "output_type": "execute_result"
    }
   ],
   "source": [
    "colores = [\"Blanco\",\"Azul\",\"verde\"]\n",
    "\n",
    "color = iter(colores)\n",
    "\n",
    "next(color)\n",
    "next(color)\n",
    "next(color)"
   ]
  },
  {
   "cell_type": "code",
   "execution_count": 13,
   "id": "c633ddb8",
   "metadata": {},
   "outputs": [
    {
     "name": "stdout",
     "output_type": "stream",
     "text": [
      "A\n",
      "E\n",
      "I\n",
      "O\n",
      "4\n",
      "3\n",
      "1\n",
      "0\n",
      "A : 4\n",
      "E : 3\n",
      "I : 1\n",
      "O : 0\n"
     ]
    }
   ],
   "source": [
    "valores = {'A': 4, 'E': 3, 'I': 1, 'O': 0}\n",
    "for k in valores:\n",
    "    print(k)\n",
    "    \n",
    "for v in valores.values():\n",
    "    print(v)\n",
    "    \n",
    "for k,v in valores.items():\n",
    "    print(k,\":\",v)"
   ]
  },
  {
   "cell_type": "code",
   "execution_count": 14,
   "id": "398cd52b",
   "metadata": {},
   "outputs": [
    {
     "name": "stdout",
     "output_type": "stream",
     "text": [
      "0\n",
      "1\n",
      "2\n",
      "3\n",
      "4\n",
      "5\n",
      "6\n",
      "7\n",
      "8\n",
      "9\n",
      "10\n"
     ]
    }
   ],
   "source": [
    "for i in range(11):\n",
    "    print(i)"
   ]
  },
  {
   "cell_type": "code",
   "execution_count": 15,
   "id": "cdddca36",
   "metadata": {},
   "outputs": [
    {
     "name": "stdout",
     "output_type": "stream",
     "text": [
      "2\n",
      "3\n",
      "4\n",
      "5\n",
      "6\n",
      "7\n",
      "8\n",
      "9\n",
      "10\n"
     ]
    }
   ],
   "source": [
    "for i in range(2,11):\n",
    "    print(i)"
   ]
  },
  {
   "cell_type": "code",
   "execution_count": 16,
   "id": "731c8711",
   "metadata": {},
   "outputs": [
    {
     "name": "stdout",
     "output_type": "stream",
     "text": [
      "2\n",
      "4\n",
      "6\n",
      "8\n",
      "10\n"
     ]
    }
   ],
   "source": [
    "for i in range(2,11,2):\n",
    "    print(i)"
   ]
  },
  {
   "cell_type": "code",
   "execution_count": 18,
   "id": "bda583ab",
   "metadata": {},
   "outputs": [
    {
     "name": "stdout",
     "output_type": "stream",
     "text": [
      "No se encontró el número 3\n"
     ]
    }
   ],
   "source": [
    "numeros = [1, 2, 4, 3, 5, 8, 6]\n",
    "\n",
    "for n in numeros:\n",
    "    if n == 3:\n",
    "        continue\n",
    "else:\n",
    "    print('No se encontró el número 3')"
   ]
  },
  {
   "cell_type": "code",
   "execution_count": 2,
   "id": "35d758c9",
   "metadata": {},
   "outputs": [
    {
     "name": "stdout",
     "output_type": "stream",
     "text": [
      "ingresa el inicioinicio\n"
     ]
    },
    {
     "ename": "ValueError",
     "evalue": "invalid literal for int() with base 10: 'inicio'",
     "output_type": "error",
     "traceback": [
      "\u001b[1;31m---------------------------------------------------------------------------\u001b[0m",
      "\u001b[1;31mValueError\u001b[0m                                Traceback (most recent call last)",
      "Cell \u001b[1;32mIn[2], line 1\u001b[0m\n\u001b[1;32m----> 1\u001b[0m inicio \u001b[38;5;241m=\u001b[39m \u001b[38;5;28mint\u001b[39m(\u001b[38;5;28minput\u001b[39m(\u001b[38;5;124m\"\u001b[39m\u001b[38;5;124mingresa el inicio\u001b[39m\u001b[38;5;124m\"\u001b[39m))\n\u001b[0;32m      2\u001b[0m final \u001b[38;5;241m=\u001b[39m \u001b[38;5;28mint\u001b[39m(\u001b[38;5;28minput\u001b[39m(\u001b[38;5;124m\"\u001b[39m\u001b[38;5;124mingresa el final\u001b[39m\u001b[38;5;124m\"\u001b[39m))\n\u001b[0;32m      4\u001b[0m \u001b[38;5;28;01mfor\u001b[39;00m i \u001b[38;5;129;01min\u001b[39;00m \u001b[38;5;28mrange\u001b[39m(inicio,final):\n",
      "\u001b[1;31mValueError\u001b[0m: invalid literal for int() with base 10: 'inicio'"
     ]
    }
   ],
   "source": [
    "inicio = int(input(\"ingresa el inicio\"))\n",
    "final = int(input(\"ingresa el final\"))\n",
    "\n",
    "for i in range(inicio,final):\n",
    "    print(i)"
   ]
  },
  {
   "cell_type": "code",
   "execution_count": null,
   "id": "47f2e1f1",
   "metadata": {},
   "outputs": [],
   "source": [
    "#Tabla de multiplicar infinita\n",
    "\n",
    "#inicio_rango\n",
    "#final_rango\n",
    "#inicio_tabla\n",
    "#final_tabla\n",
    "\n",
    "1 x 5 = 5\n",
    "1 x 6 = 6\n",
    "1 x 7 = 7\n",
    "\n",
    "2 X 5 = 10\n",
    "2 X 6 = 12\n",
    "2 X 7 = 14\n",
    "\n",
    "3 X 5 = 15\n",
    "3 X 6 = 18\n",
    "3 X 7 = 21"
   ]
  },
  {
   "cell_type": "code",
   "execution_count": 22,
   "id": "c3b1b93e",
   "metadata": {},
   "outputs": [
    {
     "name": "stdout",
     "output_type": "stream",
     "text": [
      "ingresa el inicio del rango: 10\n",
      "ingresa el final del rango: 15\n",
      "ingresa el inicio de la tabla: 10\n",
      "ingresa el final de la tabla: 15\n",
      "10 x 10 = 100\n",
      "10 x 11 = 110\n",
      "10 x 12 = 120\n",
      "10 x 13 = 130\n",
      "10 x 14 = 140\n",
      "10 x 15 = 150\n",
      "\n",
      "11 x 10 = 110\n",
      "11 x 11 = 121\n",
      "11 x 12 = 132\n",
      "11 x 13 = 143\n",
      "11 x 14 = 154\n",
      "11 x 15 = 165\n",
      "\n",
      "12 x 10 = 120\n",
      "12 x 11 = 132\n",
      "12 x 12 = 144\n",
      "12 x 13 = 156\n",
      "12 x 14 = 168\n",
      "12 x 15 = 180\n",
      "\n",
      "13 x 10 = 130\n",
      "13 x 11 = 143\n",
      "13 x 12 = 156\n",
      "13 x 13 = 169\n",
      "13 x 14 = 182\n",
      "13 x 15 = 195\n",
      "\n",
      "14 x 10 = 140\n",
      "14 x 11 = 154\n",
      "14 x 12 = 168\n",
      "14 x 13 = 182\n",
      "14 x 14 = 196\n",
      "14 x 15 = 210\n",
      "\n",
      "15 x 10 = 150\n",
      "15 x 11 = 165\n",
      "15 x 12 = 180\n",
      "15 x 13 = 195\n",
      "15 x 14 = 210\n",
      "15 x 15 = 225\n",
      "\n"
     ]
    }
   ],
   "source": [
    "inicio_rango = int(input(\"ingresa el inicio del rango: \"))\n",
    "final_rango = int(input(\"ingresa el final del rango: \"))\n",
    "\n",
    "inicio_tabla = int(input(\"ingresa el inicio de la tabla: \"))\n",
    "final_tabla = int(input(\"ingresa el final de la tabla: \"))\n",
    "\n",
    "for numero in range(inicio_rango, final_rango + 1):\n",
    "    for multiplicacion in range(inicio_tabla, final_tabla + 1):\n",
    "        print(f\"{numero} x {multiplicacion} = {numero * multiplicacion}\")\n",
    "    print()"
   ]
  }
 ],
 "metadata": {
  "kernelspec": {
   "display_name": "Python 3 (ipykernel)",
   "language": "python",
   "name": "python3"
  },
  "language_info": {
   "codemirror_mode": {
    "name": "ipython",
    "version": 3
   },
   "file_extension": ".py",
   "mimetype": "text/x-python",
   "name": "python",
   "nbconvert_exporter": "python",
   "pygments_lexer": "ipython3",
   "version": "3.11.4"
  }
 },
 "nbformat": 4,
 "nbformat_minor": 5
}
